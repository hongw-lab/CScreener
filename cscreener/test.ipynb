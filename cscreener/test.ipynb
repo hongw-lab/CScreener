{
 "cells": [
  {
   "cell_type": "code",
   "execution_count": 15,
   "metadata": {},
   "outputs": [
    {
     "name": "stdout",
     "output_type": "stream",
     "text": [
      "ms\n"
     ]
    }
   ],
   "source": [
    "import h5py\n",
    "import numpy as np\n",
    "import utility as utt\n",
    "fs = h5py.File(\"ms_73.mat\",'r')\n",
    "# fn = h5py.File(\"ms_new.mat\",'a',libver='latest')\n",
    "a = list(fs.keys())\n",
    "print(a[len(a)-1])\n",
    "\n",
    "# ms = fs['ms']\n",
    "# fs[\"ms\"].visititems(lambda n, o: print(n, o))\n",
    "# print(ms.keys())\n",
    "# RawTraces = ms.get('RawTraces')\n",
    "\n",
    "# RawTrace = np.zeros(RawTraces.shape)\n",
    "\n",
    "# RawTraces.read_direct(RawTrace)\n",
    "# print(RawTraces[0:10, 0:20])\n",
    "# cell_labels = np.ones(214)\n",
    "# ms[\"cell_label\"].write_direct(cell_labels)\n",
    "# print(utt.hdf_np_convert(ms,\"cell_label\"))\n",
    "fs.close()"
   ]
  },
  {
   "cell_type": "code",
   "execution_count": 1,
   "metadata": {},
   "outputs": [
    {
     "ename": "",
     "evalue": "",
     "output_type": "error",
     "traceback": [
      "\u001b[1;31mCanceled future for execute_request message before replies were done"
     ]
    },
    {
     "ename": "",
     "evalue": "",
     "output_type": "error",
     "traceback": [
      "\u001b[1;31mThe Kernel crashed while executing code in the the current cell or a previous cell. Please review the code in the cell(s) to identify a possible cause of the failure. Click <a href='https://aka.ms/vscodeJupyterKernelCrash'>here</a> for more info. View Jupyter <a href='command:jupyter.viewOutput'>log</a> for further details."
     ]
    }
   ],
   "source": [
    "from widgets import AboutDialog\n",
    "a = AboutDialog()\n",
    "a.exec()"
   ]
  }
 ],
 "metadata": {
  "kernelspec": {
   "display_name": "cscreener",
   "language": "python",
   "name": "python3"
  },
  "language_info": {
   "codemirror_mode": {
    "name": "ipython",
    "version": 3
   },
   "file_extension": ".py",
   "mimetype": "text/x-python",
   "name": "python",
   "nbconvert_exporter": "python",
   "pygments_lexer": "ipython3",
   "version": "3.9.16"
  },
  "orig_nbformat": 4
 },
 "nbformat": 4,
 "nbformat_minor": 2
}
