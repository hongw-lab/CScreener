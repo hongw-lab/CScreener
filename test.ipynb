{
 "cells": [
  {
   "cell_type": "code",
   "execution_count": 16,
   "metadata": {},
   "outputs": [
    {
     "data": {
      "text/plain": [
       "10"
      ]
     },
     "execution_count": 16,
     "metadata": {},
     "output_type": "execute_result"
    }
   ],
   "source": [
    "objj = object()\n",
    "class testclass():\n",
    "    def __init__(self, a: int):\n",
    "        self.a = a\n",
    "    def __getitem__(self, item):\n",
    "        return getattr(self, item)\n",
    "b = testclass(10)\n",
    "b['a']"
   ]
  }
 ],
 "metadata": {
  "kernelspec": {
   "display_name": "cscreener",
   "language": "python",
   "name": "python3"
  },
  "language_info": {
   "codemirror_mode": {
    "name": "ipython",
    "version": 3
   },
   "file_extension": ".py",
   "mimetype": "text/x-python",
   "name": "python",
   "nbconvert_exporter": "python",
   "pygments_lexer": "ipython3",
   "version": "3.9.16"
  },
  "orig_nbformat": 4,
  "vscode": {
   "interpreter": {
    "hash": "0d28af15df1939f90f45e842db6db8a767f2d8c7de5d8fefc35da2307638e0e3"
   }
  }
 },
 "nbformat": 4,
 "nbformat_minor": 2
}
