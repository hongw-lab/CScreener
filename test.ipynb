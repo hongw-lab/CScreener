{
 "cells": [
  {
   "cell_type": "code",
   "execution_count": 7,
   "metadata": {},
   "outputs": [
    {
     "name": "stdout",
     "output_type": "stream",
     "text": [
      "(3, 100)\n"
     ]
    }
   ],
   "source": [
    "import numpy as np\n",
    "import scipy as scp\n",
    "b = np.ones(3)\n",
    "b[1] = 0\n",
    "a = np.random.default_rng(seed=42)\n",
    "xarr = a.random((100,3))\n",
    "xarr = xarr.T\n",
    "print(xarr.shape)"
   ]
  },
  {
   "cell_type": "code",
   "execution_count": 10,
   "metadata": {},
   "outputs": [
    {
     "name": "stdout",
     "output_type": "stream",
     "text": [
      "[1. 0. 1.]\n"
     ]
    }
   ],
   "source": [
    "import numpy as np\n",
    "\n",
    "a = np.ones(3)\n",
    "b = a\n",
    "b[1] = 0\n",
    "print(a)"
   ]
  },
  {
   "cell_type": "code",
   "execution_count": 1,
   "metadata": {},
   "outputs": [
    {
     "ename": "ParseError",
     "evalue": "Only matrices with dimension 2 are supported.",
     "output_type": "error",
     "traceback": [
      "\u001b[1;31m---------------------------------------------------------------------------\u001b[0m",
      "\u001b[1;31mParseError\u001b[0m                                Traceback (most recent call last)",
      "Cell \u001b[1;32mIn[1], line 2\u001b[0m\n\u001b[0;32m      1\u001b[0m \u001b[39mimport\u001b[39;00m \u001b[39mmat4py\u001b[39;00m\n\u001b[1;32m----> 2\u001b[0m a \u001b[39m=\u001b[39m mat4py\u001b[39m.\u001b[39;49mloadmat(\u001b[39m\"\u001b[39;49m\u001b[39mms.mat\u001b[39;49m\u001b[39m\"\u001b[39;49m)\n",
      "File \u001b[1;32mc:\\Users\\zxj19\\anaconda3\\envs\\cscreener\\lib\\site-packages\\mat4py\\loadmat.py:467\u001b[0m, in \u001b[0;36mloadmat\u001b[1;34m(filename, meta)\u001b[0m\n\u001b[0;32m    463\u001b[0m     \u001b[39mraise\u001b[39;00m ParseError(\u001b[39m'\u001b[39m\u001b[39mDuplicate variable name \u001b[39m\u001b[39m\"\u001b[39m\u001b[39m{}\u001b[39;00m\u001b[39m\"\u001b[39m\u001b[39m in mat file.\u001b[39m\u001b[39m'\u001b[39m\n\u001b[0;32m    464\u001b[0m                      \u001b[39m.\u001b[39mformat(name))\n\u001b[0;32m    466\u001b[0m \u001b[39m# read the matrix\u001b[39;00m\n\u001b[1;32m--> 467\u001b[0m mdict[name] \u001b[39m=\u001b[39m read_var_array(fd_var, endian, hdr)\n\u001b[0;32m    468\u001b[0m \u001b[39mif\u001b[39;00m meta \u001b[39mand\u001b[39;00m hdr[\u001b[39m'\u001b[39m\u001b[39mis_global\u001b[39m\u001b[39m'\u001b[39m]:\n\u001b[0;32m    469\u001b[0m     mdict[\u001b[39m'\u001b[39m\u001b[39m__globals__\u001b[39m\u001b[39m'\u001b[39m]\u001b[39m.\u001b[39mappend(name)\n",
      "File \u001b[1;32mc:\\Users\\zxj19\\anaconda3\\envs\\cscreener\\lib\\site-packages\\mat4py\\loadmat.py:374\u001b[0m, in \u001b[0;36mread_var_array\u001b[1;34m(fd, endian, header)\u001b[0m\n\u001b[0;32m    372\u001b[0m     \u001b[39mreturn\u001b[39;00m read_cell_array(fd, endian, header)\n\u001b[0;32m    373\u001b[0m \u001b[39melif\u001b[39;00m mc \u001b[39m==\u001b[39m \u001b[39m'\u001b[39m\u001b[39mmxSTRUCT_CLASS\u001b[39m\u001b[39m'\u001b[39m:\n\u001b[1;32m--> 374\u001b[0m     \u001b[39mreturn\u001b[39;00m read_struct_array(fd, endian, header)\n\u001b[0;32m    375\u001b[0m \u001b[39melif\u001b[39;00m mc \u001b[39m==\u001b[39m \u001b[39m'\u001b[39m\u001b[39mmxOBJECT_CLASS\u001b[39m\u001b[39m'\u001b[39m:\n\u001b[0;32m    376\u001b[0m     \u001b[39mraise\u001b[39;00m ParseError(\u001b[39m'\u001b[39m\u001b[39mObject classes not supported\u001b[39m\u001b[39m'\u001b[39m)\n",
      "File \u001b[1;32mc:\\Users\\zxj19\\anaconda3\\envs\\cscreener\\lib\\site-packages\\mat4py\\loadmat.py:332\u001b[0m, in \u001b[0;36mread_struct_array\u001b[1;34m(fd, endian, header)\u001b[0m\n\u001b[0;32m    329\u001b[0m \u001b[39mfor\u001b[39;00m field \u001b[39min\u001b[39;00m fields:\n\u001b[0;32m    330\u001b[0m     \u001b[39m# read the matrix header and array\u001b[39;00m\n\u001b[0;32m    331\u001b[0m     vheader, next_pos, fd_var \u001b[39m=\u001b[39m read_var_header(fd, endian)\n\u001b[1;32m--> 332\u001b[0m     data \u001b[39m=\u001b[39m read_var_array(fd_var, endian, vheader)\n\u001b[0;32m    333\u001b[0m     \u001b[39mif\u001b[39;00m field \u001b[39mnot\u001b[39;00m \u001b[39min\u001b[39;00m array:\n\u001b[0;32m    334\u001b[0m         array[field] \u001b[39m=\u001b[39m empty()\n",
      "File \u001b[1;32mc:\\Users\\zxj19\\anaconda3\\envs\\cscreener\\lib\\site-packages\\mat4py\\loadmat.py:372\u001b[0m, in \u001b[0;36mread_var_array\u001b[1;34m(fd, endian, header)\u001b[0m\n\u001b[0;32m    370\u001b[0m     \u001b[39mreturn\u001b[39;00m read_char_array(fd, endian, header)\n\u001b[0;32m    371\u001b[0m \u001b[39melif\u001b[39;00m mc \u001b[39m==\u001b[39m \u001b[39m'\u001b[39m\u001b[39mmxCELL_CLASS\u001b[39m\u001b[39m'\u001b[39m:\n\u001b[1;32m--> 372\u001b[0m     \u001b[39mreturn\u001b[39;00m read_cell_array(fd, endian, header)\n\u001b[0;32m    373\u001b[0m \u001b[39melif\u001b[39;00m mc \u001b[39m==\u001b[39m \u001b[39m'\u001b[39m\u001b[39mmxSTRUCT_CLASS\u001b[39m\u001b[39m'\u001b[39m:\n\u001b[0;32m    374\u001b[0m     \u001b[39mreturn\u001b[39;00m read_struct_array(fd, endian, header)\n",
      "File \u001b[1;32mc:\\Users\\zxj19\\anaconda3\\envs\\cscreener\\lib\\site-packages\\mat4py\\loadmat.py:299\u001b[0m, in \u001b[0;36mread_cell_array\u001b[1;34m(fd, endian, header)\u001b[0m\n\u001b[0;32m    296\u001b[0m \u001b[39mfor\u001b[39;00m col \u001b[39min\u001b[39;00m \u001b[39mrange\u001b[39m(header[\u001b[39m'\u001b[39m\u001b[39mdims\u001b[39m\u001b[39m'\u001b[39m][\u001b[39m1\u001b[39m]):\n\u001b[0;32m    297\u001b[0m     \u001b[39m# read the matrix header and array\u001b[39;00m\n\u001b[0;32m    298\u001b[0m     vheader, next_pos, fd_var \u001b[39m=\u001b[39m read_var_header(fd, endian)\n\u001b[1;32m--> 299\u001b[0m     varray \u001b[39m=\u001b[39m read_var_array(fd_var, endian, vheader)\n\u001b[0;32m    300\u001b[0m     array[row]\u001b[39m.\u001b[39mappend(varray)\n\u001b[0;32m    301\u001b[0m     \u001b[39m# move on to next field\u001b[39;00m\n",
      "File \u001b[1;32mc:\\Users\\zxj19\\anaconda3\\envs\\cscreener\\lib\\site-packages\\mat4py\\loadmat.py:374\u001b[0m, in \u001b[0;36mread_var_array\u001b[1;34m(fd, endian, header)\u001b[0m\n\u001b[0;32m    372\u001b[0m     \u001b[39mreturn\u001b[39;00m read_cell_array(fd, endian, header)\n\u001b[0;32m    373\u001b[0m \u001b[39melif\u001b[39;00m mc \u001b[39m==\u001b[39m \u001b[39m'\u001b[39m\u001b[39mmxSTRUCT_CLASS\u001b[39m\u001b[39m'\u001b[39m:\n\u001b[1;32m--> 374\u001b[0m     \u001b[39mreturn\u001b[39;00m read_struct_array(fd, endian, header)\n\u001b[0;32m    375\u001b[0m \u001b[39melif\u001b[39;00m mc \u001b[39m==\u001b[39m \u001b[39m'\u001b[39m\u001b[39mmxOBJECT_CLASS\u001b[39m\u001b[39m'\u001b[39m:\n\u001b[0;32m    376\u001b[0m     \u001b[39mraise\u001b[39;00m ParseError(\u001b[39m'\u001b[39m\u001b[39mObject classes not supported\u001b[39m\u001b[39m'\u001b[39m)\n",
      "File \u001b[1;32mc:\\Users\\zxj19\\anaconda3\\envs\\cscreener\\lib\\site-packages\\mat4py\\loadmat.py:331\u001b[0m, in \u001b[0;36mread_struct_array\u001b[1;34m(fd, endian, header)\u001b[0m\n\u001b[0;32m    328\u001b[0m \u001b[39mfor\u001b[39;00m col \u001b[39min\u001b[39;00m \u001b[39mrange\u001b[39m(header[\u001b[39m'\u001b[39m\u001b[39mdims\u001b[39m\u001b[39m'\u001b[39m][\u001b[39m1\u001b[39m]):\n\u001b[0;32m    329\u001b[0m     \u001b[39mfor\u001b[39;00m field \u001b[39min\u001b[39;00m fields:\n\u001b[0;32m    330\u001b[0m         \u001b[39m# read the matrix header and array\u001b[39;00m\n\u001b[1;32m--> 331\u001b[0m         vheader, next_pos, fd_var \u001b[39m=\u001b[39m read_var_header(fd, endian)\n\u001b[0;32m    332\u001b[0m         data \u001b[39m=\u001b[39m read_var_array(fd_var, endian, vheader)\n\u001b[0;32m    333\u001b[0m         \u001b[39mif\u001b[39;00m field \u001b[39mnot\u001b[39;00m \u001b[39min\u001b[39;00m array:\n",
      "File \u001b[1;32mc:\\Users\\zxj19\\anaconda3\\envs\\cscreener\\lib\\site-packages\\mat4py\\loadmat.py:256\u001b[0m, in \u001b[0;36mread_var_header\u001b[1;34m(fd, endian)\u001b[0m\n\u001b[0;32m    253\u001b[0m     \u001b[39mraise\u001b[39;00m ParseError(\u001b[39m'\u001b[39m\u001b[39mExpecting miMATRIX type number \u001b[39m\u001b[39m{}\u001b[39;00m\u001b[39m, \u001b[39m\u001b[39m'\u001b[39m\n\u001b[0;32m    254\u001b[0m                      \u001b[39m'\u001b[39m\u001b[39mgot \u001b[39m\u001b[39m{}\u001b[39;00m\u001b[39m'\u001b[39m\u001b[39m.\u001b[39mformat(etypes[\u001b[39m'\u001b[39m\u001b[39mmiMATRIX\u001b[39m\u001b[39m'\u001b[39m][\u001b[39m'\u001b[39m\u001b[39mn\u001b[39m\u001b[39m'\u001b[39m], mtpn))\n\u001b[0;32m    255\u001b[0m \u001b[39m# read the header\u001b[39;00m\n\u001b[1;32m--> 256\u001b[0m header \u001b[39m=\u001b[39m read_header(fd, endian)\n\u001b[0;32m    257\u001b[0m \u001b[39mreturn\u001b[39;00m header, next_pos, fd\n",
      "File \u001b[1;32mc:\\Users\\zxj19\\anaconda3\\envs\\cscreener\\lib\\site-packages\\mat4py\\loadmat.py:224\u001b[0m, in \u001b[0;36mread_header\u001b[1;34m(fd, endian)\u001b[0m\n\u001b[0;32m    222\u001b[0m header[\u001b[39m'\u001b[39m\u001b[39mn_dims\u001b[39m\u001b[39m'\u001b[39m] \u001b[39m=\u001b[39m \u001b[39mlen\u001b[39m(header[\u001b[39m'\u001b[39m\u001b[39mdims\u001b[39m\u001b[39m'\u001b[39m])\n\u001b[0;32m    223\u001b[0m \u001b[39mif\u001b[39;00m header[\u001b[39m'\u001b[39m\u001b[39mn_dims\u001b[39m\u001b[39m'\u001b[39m] \u001b[39m!=\u001b[39m \u001b[39m2\u001b[39m:\n\u001b[1;32m--> 224\u001b[0m     \u001b[39mraise\u001b[39;00m ParseError(\u001b[39m'\u001b[39m\u001b[39mOnly matrices with dimension 2 are supported.\u001b[39m\u001b[39m'\u001b[39m)\n\u001b[0;32m    225\u001b[0m header[\u001b[39m'\u001b[39m\u001b[39mname\u001b[39m\u001b[39m'\u001b[39m] \u001b[39m=\u001b[39m read_elements(fd, endian, [\u001b[39m'\u001b[39m\u001b[39mmiINT8\u001b[39m\u001b[39m'\u001b[39m], is_name\u001b[39m=\u001b[39m\u001b[39mTrue\u001b[39;00m)\n\u001b[0;32m    226\u001b[0m \u001b[39mreturn\u001b[39;00m header\n",
      "\u001b[1;31mParseError\u001b[0m: Only matrices with dimension 2 are supported."
     ]
    }
   ],
   "source": []
  }
 ],
 "metadata": {
  "kernelspec": {
   "display_name": "cscreener",
   "language": "python",
   "name": "python3"
  },
  "language_info": {
   "codemirror_mode": {
    "name": "ipython",
    "version": 3
   },
   "file_extension": ".py",
   "mimetype": "text/x-python",
   "name": "python",
   "nbconvert_exporter": "python",
   "pygments_lexer": "ipython3",
   "version": "3.9.16"
  },
  "orig_nbformat": 4,
  "vscode": {
   "interpreter": {
    "hash": "0d28af15df1939f90f45e842db6db8a767f2d8c7de5d8fefc35da2307638e0e3"
   }
  }
 },
 "nbformat": 4,
 "nbformat_minor": 2
}
